{
 "cells": [
  {
   "cell_type": "code",
   "execution_count": 8,
   "id": "6271e0a8-be01-431b-924e-d5d6e39edb6e",
   "metadata": {},
   "outputs": [
    {
     "name": "stdout",
     "output_type": "stream",
     "text": [
      "['mozzarella', 'cinderella', 'salmonella']\n",
      "['mozzarella', 'Cinderella', 'salmonella']\n",
      "['MOZZARELLA', 'Cinderella', 'salmonella']\n",
      "['MOZZARELLA', 'Cinderella']\n",
      "you've won a nobel prize!\n"
     ]
    }
   ],
   "source": [
    "##7.4 Create list called things with designated strings\n",
    "things = [\"mozzarella\",\"cinderella\",\"salmonella\"]\n",
    "print(things)\n",
    "##7.5 Capitalize name in things\n",
    "things[1] = things[1].capitalize()\n",
    "print(things)\n",
    "##7.6 make cheesy elemnt all CAPS\n",
    "things[0] = things[0].upper()\n",
    "print(things)\n",
    "##7.7 erradicate disease and become famous\n",
    "del things[2]\n",
    "print(things)\n",
    "nobelprize = True\n",
    "\n",
    "if nobelprize == True:\n",
    "    print(\"you've won a nobel prize for curing a disease!\")"
   ]
  },
  {
   "cell_type": "code",
   "execution_count": 12,
   "id": "0e74a50f-9612-4d49-a524-287b130bff2c",
   "metadata": {},
   "outputs": [
    {
     "name": "stdout",
     "output_type": "stream",
     "text": [
      "5\n"
     ]
    }
   ],
   "source": [
    "##9.1 Good function returns list\n",
    "def good():\n",
    "    return['Harry','Ron','Hermione']\n",
    "##9.2 returns odd numbers from 1 to 10 then prints 3rd number\n",
    "def get_odds():\n",
    "    for number in range(10):\n",
    "        if number % 2 != 0:\n",
    "            yield number\n",
    "odd_Gnrtr = get_odds()\n",
    "count = 0\n",
    "for value in odd_Gnrtr:\n",
    "    count += 1\n",
    "    if count == 3:\n",
    "        print(value) ###prints the third number after counting to third value"
   ]
  }
 ],
 "metadata": {
  "kernelspec": {
   "display_name": "Python [conda env:base] *",
   "language": "python",
   "name": "conda-base-py"
  },
  "language_info": {
   "codemirror_mode": {
    "name": "ipython",
    "version": 3
   },
   "file_extension": ".py",
   "mimetype": "text/x-python",
   "name": "python",
   "nbconvert_exporter": "python",
   "pygments_lexer": "ipython3",
   "version": "3.13.5"
  }
 },
 "nbformat": 4,
 "nbformat_minor": 5
}
